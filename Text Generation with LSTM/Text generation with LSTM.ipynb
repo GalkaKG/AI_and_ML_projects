{
 "cells": [
  {
   "cell_type": "code",
   "execution_count": 3,
   "id": "9f1906ea-cf72-40a0-bedd-b97e38b832e2",
   "metadata": {},
   "outputs": [],
   "source": [
    "import os\n",
    "import datetime\n",
    "\n",
    "import numpy as np\n",
    "import matplotlib.pyplot as plt\n",
    "\n",
    "from nltk.tokenize import RegexpTokenizer\n",
    "from keras.models import Sequential, load_model\n",
    "from keras.layers import Input, Dense, Activation, LSTM\n",
    "from keras.optimizers import RMSprop\n",
    "from tensorflow.keras.callbacks import TensorBoard\n",
    "\n",
    "import pickle\n",
    "import heapq\n"
   ]
  },
  {
   "cell_type": "markdown",
   "id": "6577ff2e-1da9-4148-8e44-356058e968e5",
   "metadata": {},
   "source": [
    "# Text generation with LSTM"
   ]
  },
  {
   "cell_type": "markdown",
   "id": "89d3330a-9d9c-4923-8c37-ca1e6c6ef2bc",
   "metadata": {},
   "source": [
    "Let's create a logs directory for TensorBoard:"
   ]
  },
  {
   "cell_type": "code",
   "execution_count": 5,
   "id": "815ec671-7282-4b4c-8120-3a6855b976db",
   "metadata": {},
   "outputs": [],
   "source": [
    "log_dir = os.path.join(\"logs\", datetime.datetime.now().strftime(\"%Y%m%d-%H%M%S\"))\n",
    "\n",
    "# Define the TensorBoard callback\n",
    "tensorboard_callback = TensorBoard(log_dir=log_dir, histogram_freq=1, write_graph=True)\n"
   ]
  },
  {
   "cell_type": "markdown",
   "id": "a607dce4-224e-4650-ad51-19191ec7ee09",
   "metadata": {},
   "source": [
    "We are setting up TensorBoard to monitor our model's training process. First, we create a directory named logs with a timestamp to keep track of different training runs. Then, we define a TensorBoard callback that will log key training metrics, including histograms and the model's computation graph."
   ]
  },
  {
   "cell_type": "markdown",
   "id": "cf305439-cce3-4cb2-a5cd-3ab15cc31141",
   "metadata": {},
   "source": [
    "## Load and preprocess the text dataset\n"
   ]
  },
  {
   "cell_type": "code",
   "execution_count": 7,
   "id": "1e9bc423-1d70-43a1-b627-484e88442990",
   "metadata": {},
   "outputs": [
    {
     "name": "stdout",
     "output_type": "stream",
     "text": [
      "corpus length: 581423\n"
     ]
    }
   ],
   "source": [
    "# Load the dataset\n",
    "path = 'data/1661-0.txt'\n",
    "text = open(path).read().lower()\n",
    "print('corpus length:', len(text))\n",
    "\n",
    "# Tokenize the text\n",
    "tokenizer = RegexpTokenizer(r'\\w+')\n",
    "words = tokenizer.tokenize(text)\n",
    "\n",
    "# Create a dictionary of unique words\n",
    "unique_words = np.unique(words)\n",
    "unique_word_index = dict((c, i) for i, c in enumerate(unique_words))\n"
   ]
  },
  {
   "cell_type": "markdown",
   "id": "5faa9d41-0c75-460a-8b33-048c55429d77",
   "metadata": {},
   "source": [
    "We are loading a text dataset, processing it into individual words, and creating a dictionary to map each unique word to an index. This prepares the text for further analysis or machine learning tasks."
   ]
  },
  {
   "cell_type": "code",
   "execution_count": 8,
   "id": "94326c5d-c05d-4622-a9fc-7e458ace7537",
   "metadata": {},
   "outputs": [],
   "source": [
    "WORD_LENGTH = 5\n",
    "prev_words = []\n",
    "next_words = []\n",
    "for i in range(len(words) - WORD_LENGTH):\n",
    "    prev_words.append(words[i:i + WORD_LENGTH])\n",
    "    next_words.append(words[i + WORD_LENGTH])\n",
    "\n",
    "# Create feature and label sets\n",
    "X = np.zeros((len(prev_words), WORD_LENGTH, len(unique_words)), dtype=bool)\n",
    "Y = np.zeros((len(next_words), len(unique_words)), dtype=bool)\n",
    "for i, each_words in enumerate(prev_words):\n",
    "    for j, each_word in enumerate(each_words):\n",
    "        X[i, j, unique_word_index[each_word]] = 1\n",
    "    Y[i, unique_word_index[next_words[i]]] = 1\n"
   ]
  },
  {
   "cell_type": "markdown",
   "id": "591a1fc4-2bbc-47a7-9433-9ca50a28600a",
   "metadata": {},
   "source": [
    "We are preparing data for training a machine learning model by creating input sequences of words and their corresponding next word. This transforms raw text into a structured numerical format for model training."
   ]
  },
  {
   "cell_type": "code",
   "execution_count": 9,
   "id": "35d93b93-6d1f-4287-bf3d-1c178e18c4ca",
   "metadata": {},
   "outputs": [],
   "source": [
    "# Define the model\n",
    "model = Sequential()\n",
    "model.add(Input(shape=(WORD_LENGTH, len(unique_words))))  # Explicit Input layer\n",
    "model.add(LSTM(64))  # No need to specify input_shape again\n",
    "model.add(Dense(len(unique_words)))\n",
    "model.add(Activation('softmax'))\n"
   ]
  },
  {
   "cell_type": "markdown",
   "id": "bd821e91-859f-4d30-8b56-19c54297bf50",
   "metadata": {},
   "source": [
    "We are defining a neural network model using an LSTM (Long Short-Term Memory) layer to predict the next word in a sequence. The model takes a sequence of words as input and outputs a probability distribution over all possible next words.\n",
    "\n",
    "Let's configure the optimizer and compiling the model for training:"
   ]
  },
  {
   "cell_type": "code",
   "execution_count": 10,
   "id": "567ba0c0-c64f-4adf-aecd-21b3d55deff8",
   "metadata": {},
   "outputs": [
    {
     "name": "stdout",
     "output_type": "stream",
     "text": [
      "Epoch 1/20\n",
      "\u001b[1m1620/1620\u001b[0m \u001b[32m━━━━━━━━━━━━━━━━━━━━\u001b[0m\u001b[37m\u001b[0m \u001b[1m96s\u001b[0m 56ms/step - accuracy: 0.0632 - loss: 6.5518 - val_accuracy: 0.0893 - val_loss: 6.7528\n",
      "Epoch 2/20\n",
      "\u001b[1m1620/1620\u001b[0m \u001b[32m━━━━━━━━━━━━━━━━━━━━\u001b[0m\u001b[37m\u001b[0m \u001b[1m87s\u001b[0m 53ms/step - accuracy: 0.1152 - loss: 5.8995 - val_accuracy: 0.1008 - val_loss: 6.6607\n",
      "Epoch 3/20\n",
      "\u001b[1m1620/1620\u001b[0m \u001b[32m━━━━━━━━━━━━━━━━━━━━\u001b[0m\u001b[37m\u001b[0m \u001b[1m88s\u001b[0m 54ms/step - accuracy: 0.1329 - loss: 5.6516 - val_accuracy: 0.1070 - val_loss: 6.5894\n",
      "Epoch 4/20\n",
      "\u001b[1m1620/1620\u001b[0m \u001b[32m━━━━━━━━━━━━━━━━━━━━\u001b[0m\u001b[37m\u001b[0m \u001b[1m81s\u001b[0m 50ms/step - accuracy: 0.1509 - loss: 5.4582 - val_accuracy: 0.1039 - val_loss: 6.6380\n",
      "Epoch 5/20\n",
      "\u001b[1m1620/1620\u001b[0m \u001b[32m━━━━━━━━━━━━━━━━━━━━\u001b[0m\u001b[37m\u001b[0m \u001b[1m87s\u001b[0m 54ms/step - accuracy: 0.1667 - loss: 5.2897 - val_accuracy: 0.1135 - val_loss: 6.5904\n",
      "Epoch 6/20\n",
      "\u001b[1m1620/1620\u001b[0m \u001b[32m━━━━━━━━━━━━━━━━━━━━\u001b[0m\u001b[37m\u001b[0m \u001b[1m86s\u001b[0m 53ms/step - accuracy: 0.1881 - loss: 5.1107 - val_accuracy: 0.0999 - val_loss: 6.6729\n",
      "Epoch 7/20\n",
      "\u001b[1m1620/1620\u001b[0m \u001b[32m━━━━━━━━━━━━━━━━━━━━\u001b[0m\u001b[37m\u001b[0m \u001b[1m85s\u001b[0m 52ms/step - accuracy: 0.2094 - loss: 4.9253 - val_accuracy: 0.1014 - val_loss: 6.8531\n",
      "Epoch 8/20\n",
      "\u001b[1m1620/1620\u001b[0m \u001b[32m━━━━━━━━━━━━━━━━━━━━\u001b[0m\u001b[37m\u001b[0m \u001b[1m85s\u001b[0m 53ms/step - accuracy: 0.2307 - loss: 4.7643 - val_accuracy: 0.0929 - val_loss: 6.9850\n",
      "Epoch 9/20\n",
      "\u001b[1m1620/1620\u001b[0m \u001b[32m━━━━━━━━━━━━━━━━━━━━\u001b[0m\u001b[37m\u001b[0m \u001b[1m82s\u001b[0m 51ms/step - accuracy: 0.2504 - loss: 4.6276 - val_accuracy: 0.0904 - val_loss: 7.2156\n",
      "Epoch 10/20\n",
      "\u001b[1m1620/1620\u001b[0m \u001b[32m━━━━━━━━━━━━━━━━━━━━\u001b[0m\u001b[37m\u001b[0m \u001b[1m83s\u001b[0m 51ms/step - accuracy: 0.2748 - loss: 4.4648 - val_accuracy: 0.0922 - val_loss: 7.4487\n",
      "Epoch 11/20\n",
      "\u001b[1m1620/1620\u001b[0m \u001b[32m━━━━━━━━━━━━━━━━━━━━\u001b[0m\u001b[37m\u001b[0m \u001b[1m83s\u001b[0m 51ms/step - accuracy: 0.2956 - loss: 4.3345 - val_accuracy: 0.0889 - val_loss: 7.6815\n",
      "Epoch 12/20\n",
      "\u001b[1m1620/1620\u001b[0m \u001b[32m━━━━━━━━━━━━━━━━━━━━\u001b[0m\u001b[37m\u001b[0m \u001b[1m82s\u001b[0m 51ms/step - accuracy: 0.3183 - loss: 4.1964 - val_accuracy: 0.0812 - val_loss: 8.0482\n",
      "Epoch 13/20\n",
      "\u001b[1m1620/1620\u001b[0m \u001b[32m━━━━━━━━━━━━━━━━━━━━\u001b[0m\u001b[37m\u001b[0m \u001b[1m81s\u001b[0m 50ms/step - accuracy: 0.3345 - loss: 4.0929 - val_accuracy: 0.0894 - val_loss: 7.8484\n",
      "Epoch 14/20\n",
      "\u001b[1m1620/1620\u001b[0m \u001b[32m━━━━━━━━━━━━━━━━━━━━\u001b[0m\u001b[37m\u001b[0m \u001b[1m82s\u001b[0m 51ms/step - accuracy: 0.3506 - loss: 4.0056 - val_accuracy: 0.0843 - val_loss: 8.2688\n",
      "Epoch 15/20\n",
      "\u001b[1m1620/1620\u001b[0m \u001b[32m━━━━━━━━━━━━━━━━━━━━\u001b[0m\u001b[37m\u001b[0m \u001b[1m83s\u001b[0m 51ms/step - accuracy: 0.3659 - loss: 3.9238 - val_accuracy: 0.0814 - val_loss: 8.6774\n",
      "Epoch 16/20\n",
      "\u001b[1m1620/1620\u001b[0m \u001b[32m━━━━━━━━━━━━━━━━━━━━\u001b[0m\u001b[37m\u001b[0m \u001b[1m85s\u001b[0m 52ms/step - accuracy: 0.3776 - loss: 3.8531 - val_accuracy: 0.0852 - val_loss: 8.7252\n",
      "Epoch 17/20\n",
      "\u001b[1m1620/1620\u001b[0m \u001b[32m━━━━━━━━━━━━━━━━━━━━\u001b[0m\u001b[37m\u001b[0m \u001b[1m89s\u001b[0m 55ms/step - accuracy: 0.3885 - loss: 3.7940 - val_accuracy: 0.0779 - val_loss: 8.9816\n",
      "Epoch 18/20\n",
      "\u001b[1m1620/1620\u001b[0m \u001b[32m━━━━━━━━━━━━━━━━━━━━\u001b[0m\u001b[37m\u001b[0m \u001b[1m88s\u001b[0m 54ms/step - accuracy: 0.4012 - loss: 3.7234 - val_accuracy: 0.0768 - val_loss: 9.1855\n",
      "Epoch 19/20\n",
      "\u001b[1m1620/1620\u001b[0m \u001b[32m━━━━━━━━━━━━━━━━━━━━\u001b[0m\u001b[37m\u001b[0m \u001b[1m83s\u001b[0m 51ms/step - accuracy: 0.4108 - loss: 3.6605 - val_accuracy: 0.0764 - val_loss: 9.3190\n",
      "Epoch 20/20\n",
      "\u001b[1m1620/1620\u001b[0m \u001b[32m━━━━━━━━━━━━━━━━━━━━\u001b[0m\u001b[37m\u001b[0m \u001b[1m83s\u001b[0m 51ms/step - accuracy: 0.4159 - loss: 3.6305 - val_accuracy: 0.0773 - val_loss: 9.9080\n"
     ]
    }
   ],
   "source": [
    "optimizer = RMSprop(learning_rate=0.01)\n",
    "model.compile(loss='categorical_crossentropy', optimizer=optimizer, metrics=['accuracy'])\n",
    "history = model.fit(X, Y, validation_split=0.05, batch_size=64, epochs=20, shuffle=True, callbacks=[tensorboard_callback]).history\n"
   ]
  },
  {
   "cell_type": "markdown",
   "id": "99fb3958-33a6-46c4-b0ec-0616e029da3d",
   "metadata": {},
   "source": [
    "### Training Results\n",
    "\n",
    "After 20 epochs, we can observe the following trends:\n",
    "\n",
    "- **Training Accuracy**: The model's accuracy gradually increased from 6.32% in the first epoch to 41.59% by the 20th epoch, indicating that it's learning from the training data.\n",
    "- **Training Loss**: The training loss decreased steadily from 6.55 to 3.63, suggesting the model is improving its understanding of the data over time.\n",
    "  \n",
    "However, when we look at the **Validation Results**:\n",
    "- **Validation Accuracy**: It remained quite low, fluctuating between 7% and 10%. This indicates that the model isn't generalizing well to unseen data.\n",
    "- **Validation Loss**: The validation loss started to rise after a few epochs, which is a sign that the model might be overfitting to the training data (i.e., performing worse on the validation set as it becomes more specialized in the training data).\n",
    "\n",
    "### Takeaways\n",
    "- The model is improving in terms of training accuracy, but it struggles to perform well on new, unseen data (validation set).\n",
    "- To improve the model's generalization:\n",
    "  1. Consider **lowering the learning rate** to avoid overshooting optimal solutions.\n",
    "  2. Experiment with modifying the **model architecture**, such as adding more layers or units, or incorporating regularization techniques like dropout.\n",
    "  3. If the dataset is small or imbalanced, apply **data augmentation** to help the model generalize better.\n",
    "\n",
    "In conclusion, while the model is making progress, it needs further adjustments to improve its performance on unseen data.\n",
    "\n",
    "\n",
    "### Save the model and the training history (such as accuracy and loss over epochs):"
   ]
  },
  {
   "cell_type": "code",
   "execution_count": null,
   "id": "1734ad7d-0efb-48db-b8ed-455602b4add0",
   "metadata": {},
   "outputs": [],
   "source": [
    "model.save('keras_next_word_model.h5')\n",
    "pickle.dump(history, open(\"history.p\", \"wb\"))\n"
   ]
  },
  {
   "cell_type": "markdown",
   "id": "28a72f58-5019-4ccd-962d-b574b14b23e6",
   "metadata": {},
   "source": [
    "### Training and Validation Performance Plots"
   ]
  },
  {
   "cell_type": "code",
   "execution_count": 11,
   "id": "fba991d4-332b-478a-89ec-a291c46a9427",
   "metadata": {},
   "outputs": [
    {
     "data": {
      "image/png": "[encoded data removed]",
      "text/plain": [
       "<Figure size 432x288 with 1 Axes>"
      ]
     },
     "metadata": {
      "needs_background": "light"
     },
     "output_type": "display_data"
    },
    {
     "data": {
      "image/png": "[encoded data removed]",
      "text/plain": [
       "<Figure size 432x288 with 1 Axes>"
      ]
     },
     "metadata": {
      "needs_background": "light"
     },
     "output_type": "display_data"
    }
   ],
   "source": [
    "# Plot training & validation accuracy values\n",
    "plt.plot(history['accuracy'])\n",
    "plt.plot(history['val_accuracy'])\n",
    "plt.title('Model accuracy')\n",
    "plt.ylabel('Accuracy')\n",
    "plt.xlabel('Epoch')\n",
    "plt.legend(['Train', 'Test'], loc='upper left')\n",
    "plt.show()\n",
    "\n",
    "# Plot training & validation loss values\n",
    "plt.plot(history['loss'])\n",
    "plt.plot(history['val_loss'])\n",
    "plt.title('Model loss')\n",
    "plt.ylabel('Loss')\n",
    "plt.xlabel('Epoch')\n",
    "plt.legend(['Train', 'Test'], loc='upper left')\n",
    "plt.show()\n"
   ]
  },
  {
   "cell_type": "markdown",
   "id": "9aea6e93-1bf4-4a94-aedb-5bc5dc991998",
   "metadata": {},
   "source": [
    "Both plots help in evaluating the model's learning progress and its ability to generalize to unseen data (validation set). The accuracy plot shows how well the model is performing, and the loss plot reveals how the model is minimizing error.\n",
    "\n",
    "\n",
    "Let's processes a given text for model input like removing any punctuation marks from the input text and creates a one-hot encoded representation:"
   ]
  },
  {
   "cell_type": "code",
   "execution_count": 13,
   "id": "be4790c7-fd77-4603-bc09-871785bdb91b",
   "metadata": {},
   "outputs": [],
   "source": [
    "import string\n",
    "\n",
    "def prepare_input(text):\n",
    "    # Remove punctuation\n",
    "    text = text.translate(str.maketrans('', '', string.punctuation))\n",
    "    \n",
    "    x = np.zeros((1, WORD_LENGTH, len(unique_words)))\n",
    "    for t, word in enumerate(text.split()):\n",
    "        if word in unique_word_index:  # Check if word exists in dictionary\n",
    "            x[0, t, unique_word_index[word]] = 1\n",
    "    return x\n"
   ]
  },
  {
   "cell_type": "markdown",
   "id": "efa78e09-5811-44a4-aa96-df74e5c4d144",
   "metadata": {},
   "source": [
    "## Text Prediction"
   ]
  },
  {
   "cell_type": "code",
   "execution_count": 14,
   "id": "44172fc2-e2ff-4b5f-b926-ef2f265d0410",
   "metadata": {},
   "outputs": [
    {
     "name": "stdout",
     "output_type": "stream",
     "text": [
      "It is not a lack of love, but a lack of\n",
      " course it is the most important\n",
      "\n",
      "That which does not kill us makes us\n",
      " in the same place and the\n",
      "\n",
      "I'm not upset that you lied to me, I'm\n",
      " said he when i came out\n",
      "\n",
      "And those who were seen dancing were\n",
      " a little time to go for\n",
      "\n",
      "It is hard enough to remember my opinions, without also remembering my\n",
      " own and so there was a\n",
      "\n"
     ]
    }
   ],
   "source": [
    "def prepare_input(text):\n",
    "    x = np.zeros((1, WORD_LENGTH, len(unique_words)))\n",
    "    for t, word in enumerate(text.split()):\n",
    "        x[0, t, unique_word_index[word]] = 1\n",
    "    return x\n",
    "\n",
    "def sample(preds, top_n=3):\n",
    "    preds = np.asarray(preds).astype('float64')\n",
    "    preds = np.log(preds)\n",
    "    exp_preds = np.exp(preds)\n",
    "    preds = exp_preds / np.sum(exp_preds)\n",
    "    return heapq.nlargest(top_n, range(len(preds)), preds.take)\n",
    "\n",
    "def predict_completion(text):\n",
    "    original_text = text\n",
    "    generated = text\n",
    "    completion = ''\n",
    "    while True:\n",
    "        x = prepare_input(text)\n",
    "        preds = model.predict(x, verbose=0)[0]\n",
    "        next_index = sample(preds, top_n=1)[0]\n",
    "        next_word = unique_words[next_index]\n",
    "        text = text.split()[1:]\n",
    "        text.append(next_word)\n",
    "        text = ' '.join(text)\n",
    "        completion += ' ' + next_word\n",
    "        if len(completion.split()) > WORD_LENGTH:\n",
    "            break\n",
    "    return completion\n",
    "\n",
    "quotes = [\n",
    "    \"It is not a lack of love, but a lack of\",\n",
    "    \"That which does not kill us makes us\",\n",
    "    \"I'm not upset that you lied to me, I'm\",\n",
    "    \"And those who were seen dancing were\",\n",
    "    \"It is hard enough to remember my opinions, without also remembering my\"\n",
    "]\n",
    "\n",
    "for q in quotes:\n",
    "    seq = q.lower().split()\n",
    "    print(q)\n",
    "    print(predict_completion(' '.join(seq[-WORD_LENGTH:])))\n",
    "    print()\n"
   ]
  },
  {
   "cell_type": "markdown",
   "id": "4e34d738-bde8-4ae4-9252-f9f85a425b5e",
   "metadata": {},
   "source": [
    "This **sample** function processes the model's probability distribution by applying logarithm and normalization, then selects the top n most likely words.\n",
    "\n",
    "The **predict_completion** function takes an input text, converts it into a numerical format, and feeds it into the model.\n",
    "It predicts the next word iteratively, updating the text each time.\n",
    "The process continues until the generated completion reaches a predefined word length."
   ]
  }
 ],
 "metadata": {
  "kernelspec": {
   "display_name": "Python 3 (ipykernel)",
   "language": "python",
   "name": "python3"
  },
  "language_info": {
   "codemirror_mode": {
    "name": "ipython",
    "version": 3
   },
   "file_extension": ".py",
   "mimetype": "text/x-python",
   "name": "python",
   "nbconvert_exporter": "python",
   "pygments_lexer": "ipython3",
   "version": "3.9.12"
  }
 },
 "nbformat": 4,
 "nbformat_minor": 5
}
